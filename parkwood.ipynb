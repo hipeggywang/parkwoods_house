{
 "cells": [
  {
   "cell_type": "code",
   "execution_count": 1,
   "metadata": {},
   "outputs": [],
   "source": [
    "from datascience import *\n",
    "import numpy as np\n",
    "import pandas as pd\n",
    "%matplotlib inline\n",
    "import matplotlib.pyplot as plots\n",
    "plots.style.use('fivethirtyeight')"
   ]
  },
  {
   "cell_type": "code",
   "execution_count": 2,
   "metadata": {},
   "outputs": [],
   "source": [
    "# all sales data for parkwood\n",
    "parkwood = Table.read_table('parkwood.csv')"
   ]
  },
  {
   "cell_type": "code",
   "execution_count": 3,
   "metadata": {},
   "outputs": [],
   "source": [
    "# sales data for one bedroom in parkwood\n",
    "parkwood1 = parkwood.where('Beds', are.equal_to(1))"
   ]
  },
  {
   "cell_type": "code",
   "execution_count": 4,
   "metadata": {},
   "outputs": [],
   "source": [
    "# sales data for two bedroom in parkwood\n",
    "parkwood2 = parkwood.where('Beds', are.equal_to(2))"
   ]
  },
  {
   "cell_type": "code",
   "execution_count": 5,
   "metadata": {},
   "outputs": [],
   "source": [
    "# write a function to conver the str\n",
    "def tonumber (x):\n",
    "    y = x[1:4] + x[5:]\n",
    "    return int(y)"
   ]
  },
  {
   "cell_type": "code",
   "execution_count": 6,
   "metadata": {},
   "outputs": [],
   "source": [
    "newprice1 = parkwood1.apply(tonumber,'Price')\n",
    "newprice2 = parkwood2.apply(tonumber,'Price')"
   ]
  },
  {
   "cell_type": "code",
   "execution_count": 7,
   "metadata": {},
   "outputs": [],
   "source": [
    "def extractyear(x): \n",
    "    return x[2:]\n",
    "excldate1 = parkwood1.apply(extractyear, 'Sale Date')\n",
    "excldate2 = parkwood2.apply(extractyear, 'Sale Date')"
   ]
  },
  {
   "cell_type": "code",
   "execution_count": 8,
   "metadata": {},
   "outputs": [],
   "source": [
    "parkwood1_newprice = parkwood1.with_columns('newprice', newprice1, 'year', excldate1)\n",
    "parkwood2_newprice = parkwood2.with_columns('newprice', newprice2, 'year', excldate2)"
   ]
  },
  {
   "cell_type": "code",
   "execution_count": 9,
   "metadata": {},
   "outputs": [],
   "source": [
    "year = ['05', '06', '07', '08', '09', '10', '11', '12', '13', '14', '15', '16', '17', '18', '19']"
   ]
  },
  {
   "cell_type": "code",
   "execution_count": 10,
   "metadata": {},
   "outputs": [],
   "source": [
    "mean1all = []\n",
    "for i in np.arange(15):\n",
    "    parkwood1_year = parkwood1_newprice.where('year', are.containing(year[i])).where('Sq Ft', are.not_containing('853'))\n",
    "    mean1_year = np.mean(parkwood1_year['newprice'])\n",
    "    mean1all.append(mean1_year)"
   ]
  },
  {
   "cell_type": "code",
   "execution_count": 11,
   "metadata": {},
   "outputs": [],
   "source": [
    "mean2all = []\n",
    "for i in np.arange(15):\n",
    "    parkwood2_year = parkwood2_newprice.where('year', are.containing(year[i])).where('Sq Ft', are.not_containing('1,239'))\n",
    "    mean2_year = np.mean(parkwood2_year['newprice'])\n",
    "    mean2all.append(mean2_year)"
   ]
  },
  {
   "cell_type": "code",
   "execution_count": 12,
   "metadata": {},
   "outputs": [
    {
     "data": {
      "text/plain": [
       "[<matplotlib.lines.Line2D at 0x7f470886dc88>]"
      ]
     },
     "execution_count": 12,
     "metadata": {},
     "output_type": "execute_result"
    },
    {
     "data": {
      "image/png": "[encoded data removed]",
      "text/plain": [
       "<Figure size 432x288 with 1 Axes>"
      ]
     },
     "metadata": {},
     "output_type": "display_data"
    }
   ],
   "source": [
    "plots.plot(year, mean1all)\n",
    "plots.plot(year, mean2all)"
   ]
  },
  {
   "cell_type": "code",
   "execution_count": 13,
   "metadata": {},
   "outputs": [],
   "source": [
    "parkwood2_18 = parkwood2_newprice.where('year', are.containing('18')).where('Sq Ft', are.not_containing('1,239'))\n",
    "parkwood2_19 = parkwood2_newprice.where('year', are.containing('19')).where('Sq Ft', are.not_containing('1,239'))"
   ]
  },
  {
   "cell_type": "code",
   "execution_count": 14,
   "metadata": {},
   "outputs": [
    {
     "data": {
      "text/html": [
       "<table border=\"1\" class=\"dataframe\">\n",
       "    <thead>\n",
       "        <tr>\n",
       "            <th>Unit#</th> <th>Sale Date</th> <th>Sq Ft</th> <th>Beds</th> <th>Baths</th> <th>Partial Baths</th> <th>Price</th> <th>Price/sq ft</th> <th>newprice</th> <th>year</th>\n",
       "        </tr>\n",
       "    </thead>\n",
       "    <tbody>\n",
       "        <tr>\n",
       "            <td>214  </td> <td>26-Nov-18</td> <td>1,119</td> <td>2   </td> <td>2    </td> <td>0            </td> <td>$625,000 </td> <td>$559       </td> <td>625000  </td> <td>-Nov-18</td>\n",
       "        </tr>\n",
       "        <tr>\n",
       "            <td>110  </td> <td>19-Oct-18</td> <td>1,095</td> <td>2   </td> <td>2    </td> <td>0            </td> <td>$640,000 </td> <td>$584       </td> <td>640000  </td> <td>-Oct-18</td>\n",
       "        </tr>\n",
       "        <tr>\n",
       "            <td>121  </td> <td>9-Oct-18 </td> <td>1,119</td> <td>2   </td> <td>2    </td> <td>0            </td> <td>$625,000 </td> <td>$559       </td> <td>625000  </td> <td>Oct-18 </td>\n",
       "        </tr>\n",
       "        <tr>\n",
       "            <td>109  </td> <td>20-Sep-18</td> <td>1,119</td> <td>2   </td> <td>2    </td> <td>0            </td> <td>$660,000 </td> <td>$590       </td> <td>660000  </td> <td>-Sep-18</td>\n",
       "        </tr>\n",
       "        <tr>\n",
       "            <td>303  </td> <td>17-Sep-18</td> <td>1,224</td> <td>2   </td> <td>2    </td> <td>0            </td> <td>$695,000 </td> <td>$568       </td> <td>695000  </td> <td>-Sep-18</td>\n",
       "        </tr>\n",
       "        <tr>\n",
       "            <td>208  </td> <td>13-Aug-18</td> <td>1,095</td> <td>2   </td> <td>2    </td> <td>0            </td> <td>$615,000 </td> <td>$562       </td> <td>615000  </td> <td>-Aug-18</td>\n",
       "        </tr>\n",
       "        <tr>\n",
       "            <td>115  </td> <td>31-Jul-18</td> <td>1,095</td> <td>2   </td> <td>2    </td> <td>0            </td> <td>$655,000 </td> <td>$598       </td> <td>655000  </td> <td>-Jul-18</td>\n",
       "        </tr>\n",
       "        <tr>\n",
       "            <td>321  </td> <td>16-Jul-18</td> <td>1,119</td> <td>2   </td> <td>2    </td> <td>0            </td> <td>$670,000 </td> <td>$599       </td> <td>670000  </td> <td>-Jul-18</td>\n",
       "        </tr>\n",
       "        <tr>\n",
       "            <td>213  </td> <td>31-May-18</td> <td>1,119</td> <td>2   </td> <td>2    </td> <td>0            </td> <td>$650,000 </td> <td>$581       </td> <td>650000  </td> <td>-May-18</td>\n",
       "        </tr>\n",
       "        <tr>\n",
       "            <td>110  </td> <td>15-Feb-18</td> <td>1,095</td> <td>2   </td> <td>2    </td> <td>0            </td> <td>$575,000 </td> <td>$525       </td> <td>575000  </td> <td>-Feb-18</td>\n",
       "        </tr>\n",
       "    </tbody>\n",
       "</table>\n",
       "<p>... (2 rows omitted)</p>"
      ],
      "text/plain": [
       "Unit# | Sale Date | Sq Ft | Beds | Baths | Partial Baths | Price     | Price/sq ft | newprice | year\n",
       "214   | 26-Nov-18 | 1,119 | 2    | 2     | 0             | $625,000  | $559        | 625000   | -Nov-18\n",
       "110   | 19-Oct-18 | 1,095 | 2    | 2     | 0             | $640,000  | $584        | 640000   | -Oct-18\n",
       "121   | 9-Oct-18  | 1,119 | 2    | 2     | 0             | $625,000  | $559        | 625000   | Oct-18\n",
       "109   | 20-Sep-18 | 1,119 | 2    | 2     | 0             | $660,000  | $590        | 660000   | -Sep-18\n",
       "303   | 17-Sep-18 | 1,224 | 2    | 2     | 0             | $695,000  | $568        | 695000   | -Sep-18\n",
       "208   | 13-Aug-18 | 1,095 | 2    | 2     | 0             | $615,000  | $562        | 615000   | -Aug-18\n",
       "115   | 31-Jul-18 | 1,095 | 2    | 2     | 0             | $655,000  | $598        | 655000   | -Jul-18\n",
       "321   | 16-Jul-18 | 1,119 | 2    | 2     | 0             | $670,000  | $599        | 670000   | -Jul-18\n",
       "213   | 31-May-18 | 1,119 | 2    | 2     | 0             | $650,000  | $581        | 650000   | -May-18\n",
       "110   | 15-Feb-18 | 1,095 | 2    | 2     | 0             | $575,000  | $525        | 575000   | -Feb-18\n",
       "... (2 rows omitted)"
      ]
     },
     "execution_count": 14,
     "metadata": {},
     "output_type": "execute_result"
    }
   ],
   "source": [
    "parkwood2_18"
   ]
  },
  {
   "cell_type": "code",
   "execution_count": 15,
   "metadata": {},
   "outputs": [
    {
     "data": {
      "text/html": [
       "<table border=\"1\" class=\"dataframe\">\n",
       "    <thead>\n",
       "        <tr>\n",
       "            <th>Unit#</th> <th>Sale Date</th> <th>Sq Ft</th> <th>Beds</th> <th>Baths</th> <th>Partial Baths</th> <th>Price</th> <th>Price/sq ft</th> <th>newprice</th> <th>year</th>\n",
       "        </tr>\n",
       "    </thead>\n",
       "    <tbody>\n",
       "        <tr>\n",
       "            <td>313  </td> <td>15-Oct-19</td> <td>1,119</td> <td>2   </td> <td>2    </td> <td>0            </td> <td>$740,000 </td> <td>$661       </td> <td>740000  </td> <td>-Oct-19</td>\n",
       "        </tr>\n",
       "        <tr>\n",
       "            <td>208  </td> <td>26-Sep-19</td> <td>1,095</td> <td>2   </td> <td>2    </td> <td>0            </td> <td>$655,000 </td> <td>$598       </td> <td>655000  </td> <td>-Sep-19</td>\n",
       "        </tr>\n",
       "        <tr>\n",
       "            <td>110  </td> <td>15-Aug-19</td> <td>1,119</td> <td>2   </td> <td>2    </td> <td>0            </td> <td>$650,000 </td> <td>$581       </td> <td>650000  </td> <td>-Aug-19</td>\n",
       "        </tr>\n",
       "        <tr>\n",
       "            <td>124  </td> <td>19-Jul-19</td> <td>1,058</td> <td>2   </td> <td>2    </td> <td>0            </td> <td>$627,000 </td> <td>$593       </td> <td>627000  </td> <td>-Jul-19</td>\n",
       "        </tr>\n",
       "        <tr>\n",
       "            <td>219  </td> <td>18-Jul-19</td> <td>1,058</td> <td>2   </td> <td>2    </td> <td>0            </td> <td>$640,000 </td> <td>$605       </td> <td>640000  </td> <td>-Jul-19</td>\n",
       "        </tr>\n",
       "        <tr>\n",
       "            <td>103  </td> <td>17-Jul-19</td> <td>1,058</td> <td>2   </td> <td>2    </td> <td>0            </td> <td>$650,000 </td> <td>$614       </td> <td>650000  </td> <td>-Jul-19</td>\n",
       "        </tr>\n",
       "        <tr>\n",
       "            <td>211  </td> <td>28-Jun-19</td> <td>1,119</td> <td>2   </td> <td>2    </td> <td>0            </td> <td>$635,000 </td> <td>$567       </td> <td>635000  </td> <td>-Jun-19</td>\n",
       "        </tr>\n",
       "        <tr>\n",
       "            <td>203  </td> <td>25-Jun-19</td> <td>1,058</td> <td>2   </td> <td>2    </td> <td>0            </td> <td>$645,000 </td> <td>$610       </td> <td>645000  </td> <td>-Jun-19</td>\n",
       "        </tr>\n",
       "        <tr>\n",
       "            <td>113  </td> <td>30-Apr-19</td> <td>1,119</td> <td>2   </td> <td>2    </td> <td>0            </td> <td>$655,000 </td> <td>$585       </td> <td>655000  </td> <td>-Apr-19</td>\n",
       "        </tr>\n",
       "        <tr>\n",
       "            <td>210  </td> <td>9-Apr-19 </td> <td>1,095</td> <td>2   </td> <td>2    </td> <td>0            </td> <td>$639,000 </td> <td>$584       </td> <td>639000  </td> <td>Apr-19 </td>\n",
       "        </tr>\n",
       "        <tr>\n",
       "            <td>112  </td> <td>20-Mar-19</td> <td>1,095</td> <td>2   </td> <td>2    </td> <td>0            </td> <td>$625,000 </td> <td>$571       </td> <td>625000  </td> <td>-Mar-19</td>\n",
       "        </tr>\n",
       "        <tr>\n",
       "            <td>310  </td> <td>15-Feb-19</td> <td>1,095</td> <td>2   </td> <td>2    </td> <td>0            </td> <td>$655,000 </td> <td>$598       </td> <td>655000  </td> <td>-Feb-19</td>\n",
       "        </tr>\n",
       "    </tbody>\n",
       "</table>"
      ],
      "text/plain": [
       "<IPython.core.display.HTML object>"
      ]
     },
     "metadata": {},
     "output_type": "display_data"
    }
   ],
   "source": [
    "parkwood2_19.show()"
   ]
  },
  {
   "cell_type": "code",
   "execution_count": 16,
   "metadata": {},
   "outputs": [],
   "source": [
    "parkwood1_17 = parkwood1_newprice.where('year', are.containing('17')).where('Sq Ft', are.not_containing('853'))\n",
    "parkwood1_18 = parkwood1_newprice.where('year', are.containing('18')).where('Sq Ft', are.not_containing('853'))\n",
    "parkwood1_19 = parkwood1_newprice.where('year', are.containing('19')).where('Sq Ft', are.not_containing('853'))"
   ]
  },
  {
   "cell_type": "code",
   "execution_count": 17,
   "metadata": {},
   "outputs": [
    {
     "data": {
      "text/html": [
       "<table border=\"1\" class=\"dataframe\">\n",
       "    <thead>\n",
       "        <tr>\n",
       "            <th>Unit#</th> <th>Sale Date</th> <th>Sq Ft</th> <th>Beds</th> <th>Baths</th> <th>Partial Baths</th> <th>Price</th> <th>Price/sq ft</th> <th>newprice</th> <th>year</th>\n",
       "        </tr>\n",
       "    </thead>\n",
       "    <tbody>\n",
       "        <tr>\n",
       "            <td>213  </td> <td>22-Nov-17</td> <td>773  </td> <td>1   </td> <td>1    </td> <td>0            </td> <td>$470,000 </td> <td>$608       </td> <td>470000  </td> <td>-Nov-17</td>\n",
       "        </tr>\n",
       "        <tr>\n",
       "            <td>313  </td> <td>16-Nov-17</td> <td>728  </td> <td>1   </td> <td>1    </td> <td>0            </td> <td>$415,000 </td> <td>$570       </td> <td>415000  </td> <td>-Nov-17</td>\n",
       "        </tr>\n",
       "        <tr>\n",
       "            <td>207  </td> <td>13-Nov-17</td> <td>773  </td> <td>1   </td> <td>1    </td> <td>0            </td> <td>$437,500 </td> <td>$566       </td> <td>437500  </td> <td>-Nov-17</td>\n",
       "        </tr>\n",
       "        <tr>\n",
       "            <td>132  </td> <td>20-Oct-17</td> <td>728  </td> <td>1   </td> <td>1    </td> <td>0            </td> <td>$405,000 </td> <td>$556       </td> <td>405000  </td> <td>-Oct-17</td>\n",
       "        </tr>\n",
       "        <tr>\n",
       "            <td>112  </td> <td>29-Sep-17</td> <td>728  </td> <td>1   </td> <td>1    </td> <td>0            </td> <td>$450,000 </td> <td>$618       </td> <td>450000  </td> <td>-Sep-17</td>\n",
       "        </tr>\n",
       "        <tr>\n",
       "            <td>126  </td> <td>20-Sep-17</td> <td>728  </td> <td>1   </td> <td>1    </td> <td>0            </td> <td>$470,000 </td> <td>$646       </td> <td>470000  </td> <td>-Sep-17</td>\n",
       "        </tr>\n",
       "        <tr>\n",
       "            <td>121  </td> <td>18-Jul-17</td> <td>773  </td> <td>1   </td> <td>1    </td> <td>0            </td> <td>$438,000 </td> <td>$567       </td> <td>438000  </td> <td>-Jul-17</td>\n",
       "        </tr>\n",
       "        <tr>\n",
       "            <td>106  </td> <td>10-Jul-17</td> <td>773  </td> <td>1   </td> <td>1    </td> <td>0            </td> <td>$425,000 </td> <td>$550       </td> <td>425000  </td> <td>-Jul-17</td>\n",
       "        </tr>\n",
       "        <tr>\n",
       "            <td>212  </td> <td>6-Jul-17 </td> <td>773  </td> <td>1   </td> <td>1    </td> <td>0            </td> <td>$410,000 </td> <td>$530       </td> <td>410000  </td> <td>Jul-17 </td>\n",
       "        </tr>\n",
       "        <tr>\n",
       "            <td>115  </td> <td>22-May-17</td> <td>773  </td> <td>1   </td> <td>1    </td> <td>0            </td> <td>$435,000 </td> <td>$563       </td> <td>435000  </td> <td>-May-17</td>\n",
       "        </tr>\n",
       "    </tbody>\n",
       "</table>\n",
       "<p>... (1 rows omitted)</p>"
      ],
      "text/plain": [
       "Unit# | Sale Date | Sq Ft | Beds | Baths | Partial Baths | Price     | Price/sq ft | newprice | year\n",
       "213   | 22-Nov-17 | 773   | 1    | 1     | 0             | $470,000  | $608        | 470000   | -Nov-17\n",
       "313   | 16-Nov-17 | 728   | 1    | 1     | 0             | $415,000  | $570        | 415000   | -Nov-17\n",
       "207   | 13-Nov-17 | 773   | 1    | 1     | 0             | $437,500  | $566        | 437500   | -Nov-17\n",
       "132   | 20-Oct-17 | 728   | 1    | 1     | 0             | $405,000  | $556        | 405000   | -Oct-17\n",
       "112   | 29-Sep-17 | 728   | 1    | 1     | 0             | $450,000  | $618        | 450000   | -Sep-17\n",
       "126   | 20-Sep-17 | 728   | 1    | 1     | 0             | $470,000  | $646        | 470000   | -Sep-17\n",
       "121   | 18-Jul-17 | 773   | 1    | 1     | 0             | $438,000  | $567        | 438000   | -Jul-17\n",
       "106   | 10-Jul-17 | 773   | 1    | 1     | 0             | $425,000  | $550        | 425000   | -Jul-17\n",
       "212   | 6-Jul-17  | 773   | 1    | 1     | 0             | $410,000  | $530        | 410000   | Jul-17\n",
       "115   | 22-May-17 | 773   | 1    | 1     | 0             | $435,000  | $563        | 435000   | -May-17\n",
       "... (1 rows omitted)"
      ]
     },
     "execution_count": 17,
     "metadata": {},
     "output_type": "execute_result"
    }
   ],
   "source": [
    "parkwood1_17"
   ]
  },
  {
   "cell_type": "code",
   "execution_count": 18,
   "metadata": {},
   "outputs": [
    {
     "data": {
      "text/html": [
       "<table border=\"1\" class=\"dataframe\">\n",
       "    <thead>\n",
       "        <tr>\n",
       "            <th>Unit#</th> <th>Sale Date</th> <th>Sq Ft</th> <th>Beds</th> <th>Baths</th> <th>Partial Baths</th> <th>Price</th> <th>Price/sq ft</th> <th>newprice</th> <th>year</th>\n",
       "        </tr>\n",
       "    </thead>\n",
       "    <tbody>\n",
       "        <tr>\n",
       "            <td>106  </td> <td>27-Dec-18</td> <td>773  </td> <td>1   </td> <td>1    </td> <td>0            </td> <td>$480,000 </td> <td>$621       </td> <td>480000  </td> <td>-Dec-18</td>\n",
       "        </tr>\n",
       "        <tr>\n",
       "            <td>101  </td> <td>6-Nov-18 </td> <td>728  </td> <td>1   </td> <td>1    </td> <td>0            </td> <td>$485,000 </td> <td>$666       </td> <td>485000  </td> <td>Nov-18 </td>\n",
       "        </tr>\n",
       "        <tr>\n",
       "            <td>305  </td> <td>29-Oct-18</td> <td>773  </td> <td>1   </td> <td>1    </td> <td>0            </td> <td>$505,000 </td> <td>$653       </td> <td>505000  </td> <td>-Oct-18</td>\n",
       "        </tr>\n",
       "        <tr>\n",
       "            <td>314  </td> <td>16-Oct-18</td> <td>773  </td> <td>1   </td> <td>1    </td> <td>0            </td> <td>$550,000 </td> <td>$712       </td> <td>550000  </td> <td>-Oct-18</td>\n",
       "        </tr>\n",
       "        <tr>\n",
       "            <td>201  </td> <td>11-Oct-18</td> <td>728  </td> <td>1   </td> <td>1    </td> <td>0            </td> <td>$488,000 </td> <td>$670       </td> <td>488000  </td> <td>-Oct-18</td>\n",
       "        </tr>\n",
       "        <tr>\n",
       "            <td>305  </td> <td>13-Aug-18</td> <td>773  </td> <td>1   </td> <td>1    </td> <td>0            </td> <td>$530,000 </td> <td>$686       </td> <td>530000  </td> <td>-Aug-18</td>\n",
       "        </tr>\n",
       "        <tr>\n",
       "            <td>314  </td> <td>23-Jul-18</td> <td>773  </td> <td>1   </td> <td>1    </td> <td>0            </td> <td>$540,000 </td> <td>$699       </td> <td>540000  </td> <td>-Jul-18</td>\n",
       "        </tr>\n",
       "        <tr>\n",
       "            <td>207  </td> <td>15-Jun-18</td> <td>773  </td> <td>1   </td> <td>1    </td> <td>0            </td> <td>$510,000 </td> <td>$660       </td> <td>510000  </td> <td>-Jun-18</td>\n",
       "        </tr>\n",
       "        <tr>\n",
       "            <td>215  </td> <td>5-Jun-18 </td> <td>773  </td> <td>1   </td> <td>1    </td> <td>0            </td> <td>$525,000 </td> <td>$679       </td> <td>525000  </td> <td>Jun-18 </td>\n",
       "        </tr>\n",
       "        <tr>\n",
       "            <td>315  </td> <td>4-May-18 </td> <td>773  </td> <td>1   </td> <td>1    </td> <td>0            </td> <td>$550,000 </td> <td>$712       </td> <td>550000  </td> <td>May-18 </td>\n",
       "        </tr>\n",
       "    </tbody>\n",
       "</table>\n",
       "<p>... (2 rows omitted)</p>"
      ],
      "text/plain": [
       "Unit# | Sale Date | Sq Ft | Beds | Baths | Partial Baths | Price     | Price/sq ft | newprice | year\n",
       "106   | 27-Dec-18 | 773   | 1    | 1     | 0             | $480,000  | $621        | 480000   | -Dec-18\n",
       "101   | 6-Nov-18  | 728   | 1    | 1     | 0             | $485,000  | $666        | 485000   | Nov-18\n",
       "305   | 29-Oct-18 | 773   | 1    | 1     | 0             | $505,000  | $653        | 505000   | -Oct-18\n",
       "314   | 16-Oct-18 | 773   | 1    | 1     | 0             | $550,000  | $712        | 550000   | -Oct-18\n",
       "201   | 11-Oct-18 | 728   | 1    | 1     | 0             | $488,000  | $670        | 488000   | -Oct-18\n",
       "305   | 13-Aug-18 | 773   | 1    | 1     | 0             | $530,000  | $686        | 530000   | -Aug-18\n",
       "314   | 23-Jul-18 | 773   | 1    | 1     | 0             | $540,000  | $699        | 540000   | -Jul-18\n",
       "207   | 15-Jun-18 | 773   | 1    | 1     | 0             | $510,000  | $660        | 510000   | -Jun-18\n",
       "215   | 5-Jun-18  | 773   | 1    | 1     | 0             | $525,000  | $679        | 525000   | Jun-18\n",
       "315   | 4-May-18  | 773   | 1    | 1     | 0             | $550,000  | $712        | 550000   | May-18\n",
       "... (2 rows omitted)"
      ]
     },
     "execution_count": 18,
     "metadata": {},
     "output_type": "execute_result"
    }
   ],
   "source": [
    "parkwood1_18"
   ]
  },
  {
   "cell_type": "code",
   "execution_count": 19,
   "metadata": {},
   "outputs": [
    {
     "data": {
      "text/html": [
       "<table border=\"1\" class=\"dataframe\">\n",
       "    <thead>\n",
       "        <tr>\n",
       "            <th>Unit#</th> <th>Sale Date</th> <th>Sq Ft</th> <th>Beds</th> <th>Baths</th> <th>Partial Baths</th> <th>Price</th> <th>Price/sq ft</th> <th>newprice</th> <th>year</th>\n",
       "        </tr>\n",
       "    </thead>\n",
       "    <tbody>\n",
       "        <tr>\n",
       "            <td>111  </td> <td>16-Sep-19</td> <td>728  </td> <td>1   </td> <td>1    </td> <td>0            </td> <td>$510,000 </td> <td>$701       </td> <td>510000  </td> <td>-Sep-19</td>\n",
       "        </tr>\n",
       "        <tr>\n",
       "            <td>132  </td> <td>4-Sep-19 </td> <td>728  </td> <td>1   </td> <td>1    </td> <td>0            </td> <td>$515,000 </td> <td>$707       </td> <td>515000  </td> <td>Sep-19 </td>\n",
       "        </tr>\n",
       "        <tr>\n",
       "            <td>204  </td> <td>15-Aug-19</td> <td>773  </td> <td>1   </td> <td>1    </td> <td>0            </td> <td>$515,000 </td> <td>$666       </td> <td>515000  </td> <td>-Aug-19</td>\n",
       "        </tr>\n",
       "        <tr>\n",
       "            <td>305  </td> <td>5-Aug-19 </td> <td>773  </td> <td>1   </td> <td>1    </td> <td>0            </td> <td>$535,000 </td> <td>$692       </td> <td>535000  </td> <td>Aug-19 </td>\n",
       "        </tr>\n",
       "        <tr>\n",
       "            <td>305  </td> <td>30-Jul-19</td> <td>773  </td> <td>1   </td> <td>1    </td> <td>0            </td> <td>$530,000 </td> <td>$686       </td> <td>530000  </td> <td>-Jul-19</td>\n",
       "        </tr>\n",
       "        <tr>\n",
       "            <td>316  </td> <td>28-Jun-19</td> <td>728  </td> <td>1   </td> <td>1    </td> <td>0            </td> <td>$485,000 </td> <td>$666       </td> <td>485000  </td> <td>-Jun-19</td>\n",
       "        </tr>\n",
       "        <tr>\n",
       "            <td>301  </td> <td>6-Jun-19 </td> <td>728  </td> <td>1   </td> <td>1    </td> <td>0            </td> <td>$550,000 </td> <td>$755       </td> <td>550000  </td> <td>Jun-19 </td>\n",
       "        </tr>\n",
       "        <tr>\n",
       "            <td>109  </td> <td>31-May-19</td> <td>728  </td> <td>1   </td> <td>1    </td> <td>0            </td> <td>$506,000 </td> <td>$695       </td> <td>506000  </td> <td>-May-19</td>\n",
       "        </tr>\n",
       "        <tr>\n",
       "            <td>216  </td> <td>6-May-19 </td> <td>773  </td> <td>1   </td> <td>1    </td> <td>0            </td> <td>$505,000 </td> <td>$653       </td> <td>505000  </td> <td>May-19 </td>\n",
       "        </tr>\n",
       "        <tr>\n",
       "            <td>221  </td> <td>22-Mar-19</td> <td>773  </td> <td>1   </td> <td>1    </td> <td>0            </td> <td>$510,000 </td> <td>$660       </td> <td>510000  </td> <td>-Mar-19</td>\n",
       "        </tr>\n",
       "    </tbody>\n",
       "</table>\n",
       "<p>... (4 rows omitted)</p>"
      ],
      "text/plain": [
       "Unit# | Sale Date | Sq Ft | Beds | Baths | Partial Baths | Price     | Price/sq ft | newprice | year\n",
       "111   | 16-Sep-19 | 728   | 1    | 1     | 0             | $510,000  | $701        | 510000   | -Sep-19\n",
       "132   | 4-Sep-19  | 728   | 1    | 1     | 0             | $515,000  | $707        | 515000   | Sep-19\n",
       "204   | 15-Aug-19 | 773   | 1    | 1     | 0             | $515,000  | $666        | 515000   | -Aug-19\n",
       "305   | 5-Aug-19  | 773   | 1    | 1     | 0             | $535,000  | $692        | 535000   | Aug-19\n",
       "305   | 30-Jul-19 | 773   | 1    | 1     | 0             | $530,000  | $686        | 530000   | -Jul-19\n",
       "316   | 28-Jun-19 | 728   | 1    | 1     | 0             | $485,000  | $666        | 485000   | -Jun-19\n",
       "301   | 6-Jun-19  | 728   | 1    | 1     | 0             | $550,000  | $755        | 550000   | Jun-19\n",
       "109   | 31-May-19 | 728   | 1    | 1     | 0             | $506,000  | $695        | 506000   | -May-19\n",
       "216   | 6-May-19  | 773   | 1    | 1     | 0             | $505,000  | $653        | 505000   | May-19\n",
       "221   | 22-Mar-19 | 773   | 1    | 1     | 0             | $510,000  | $660        | 510000   | -Mar-19\n",
       "... (4 rows omitted)"
      ]
     },
     "execution_count": 19,
     "metadata": {},
     "output_type": "execute_result"
    }
   ],
   "source": [
    "parkwood1_19"
   ]
  },
  {
   "cell_type": "code",
   "execution_count": null,
   "metadata": {},
   "outputs": [],
   "source": []
  }
 ],
 "metadata": {
  "kernelspec": {
   "display_name": "Python 3 (ipykernel)",
   "language": "python",
   "name": "python3"
  },
  "language_info": {
   "codemirror_mode": {
    "name": "ipython",
    "version": 3
   },
   "file_extension": ".py",
   "mimetype": "text/x-python",
   "name": "python",
   "nbconvert_exporter": "python",
   "pygments_lexer": "ipython3",
   "version": "3.8.10"
  }
 },
 "nbformat": 4,
 "nbformat_minor": 4
}
